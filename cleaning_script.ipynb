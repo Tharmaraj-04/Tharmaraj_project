{
 "cells": [
  {
   "cell_type": "code",
   "execution_count": null,
   "metadata": {},
   "outputs": [],
   "source": [
    "import pandas as pd\n",
    "\n",
    "# Load data\n",
    "df = pd.read_csv(\"Mall_Customers.csv\")\n",
    "\n",
    "# Rename columns\n",
    "df.columns = df.columns.str.strip().str.lower().str.replace(\" \", \"_\")\n",
    "\n",
    "# Drop duplicates\n",
    "df.drop_duplicates(inplace=True)\n",
    "\n",
    "# Handle missing values\n",
    "df.dropna(inplace=True)\n",
    "\n",
    "# Standardize text in 'gender' column\n",
    "df['gender'] = df['gender'].str.strip().str.title()\n",
    "\n",
    "# Convert age to int\n",
    "df['age'] = df['age'].astype(int)\n",
    "\n",
    "# Save the cleaned file\n",
    "df.to_csv(\"Mall_Customers_Cleaned.csv\", index=False)"
   ]
  },
  {
   "cell_type": "markdown",
   "metadata": {},
   "source": [
    "# - Data Cleaning Summary\n",
    "\n",
    "- Renamed columns (lowercase, underscores).\n",
    "- Removed duplicate rows.\n",
    "- Dropped rows with missing values.\n",
    "- Standardized text in 'gender' column.\n",
    "- Converted 'age' to integer.\n",
    "- Saved cleaned dataset as `Mall_Customers_Cleaned.csv`."
   ]
  },
  {
   "cell_type": "markdown",
   "metadata": {},
   "source": []
  }
 ],
 "metadata": {
  "kernelspec": {
   "display_name": "Python 3",
   "language": "python",
   "name": "python3"
  },
  "language_info": {
   "name": "python",
   "version": "3.x"
  }
 },
 "nbformat": 4,
 "nbformat_minor": 2
}
